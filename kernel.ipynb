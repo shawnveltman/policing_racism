{
  "cells": [
    {
      "metadata": {
        "_uuid": "db6c28127468f899b61960ff0e4a52dab28ad8b6"
      },
      "cell_type": "markdown",
      "source": "## Hunting for Insights / Exploration - Policing Equity\n\nThe Center for Policing Equity (CPE) is research scientists, race and equity experts, data virtuosos, and community trainers working together to build more fair and just systems. Police departments across the United States have joined our National Justice Database, the first and largest collection of standardized police behavioral data. \n\n## Data Science for Good : Problem Statement \n\nHow do you measure justice? And how do you solve the problem of racism in policing? We look for factors that drive racial disparities in policing by analyzing census and police department deployment data. The ultimate goal is to inform police agencies where they can make improvements by identifying deployment areas where racial disparities exist and are not explainable by crime rates and poverty levels. The biggest challenge is automating the combination of police data, census-level data, and other socioeconomic factors. \n\n## About this Kernel : \n\nThis kernel aims to unearth the hidden insights from the data shared. This kernel will be updated regularly. \n\nLets Load the required libraries first. "
    },
    {
      "metadata": {
        "_uuid": "8f2839f25d086af736a60e9eeb907d3b93b6e0e5",
        "_cell_guid": "b1076dfc-b9ad-4769-8c92-a6c4dae69d19",
        "trusted": true,
        "_kg_hide-input": true
      },
      "cell_type": "code",
      "source": "import numpy as np \nimport pandas as pd \nimport folium\nfrom folium import plugins\nfrom io import StringIO\nimport geopandas as gpd\nfrom pprint import pprint \nfrom plotly.offline import init_notebook_mode, iplot\nimport plotly.graph_objs as go\nimport plotly.plotly as py\nfrom plotly import tools\nimport plotly.figure_factory as ff\nimport matplotlib.pyplot as plt\nimport seaborn as sns\nimport os \ninit_notebook_mode(connected=True)",
      "execution_count": null,
      "outputs": []
    },
    {
      "metadata": {
        "_uuid": "cb665d3d1d55c6ae86139ffdbb38de1dd38612b7"
      },
      "cell_type": "markdown",
      "source": "### About Dataset : Department Files\n\nThe dataset consists of different data files for different police deparments. Lets quickly look at those department names. "
    },
    {
      "metadata": {
        "_kg_hide-input": true,
        "trusted": true,
        "_uuid": "072b84e6929adb2c8d209e5bca6700406bbad96d"
      },
      "cell_type": "code",
      "source": "depts = [f for f in os.listdir(\"../input/cpe-data/\") if f.startswith(\"Dept\")]\npprint(depts)",
      "execution_count": null,
      "outputs": []
    },
    {
      "metadata": {
        "_uuid": "71f8e150bd201b4fe9ac180ecd35395957af507f"
      },
      "cell_type": "markdown",
      "source": "### About Dataset : Different Data Files for Police Departments\n\nAmong different departments, different files are shared corresponding to different data files, such as Education, Race, Poverty etc. Lets have a look"
    },
    {
      "metadata": {
        "trusted": true,
        "_uuid": "eb90e84752c3a1afbd92fecaf098590bd5b784e7",
        "_kg_hide-input": true
      },
      "cell_type": "code",
      "source": "files = os.listdir(\"../input/cpe-data/Dept_23-00089/23-00089_ACS_data/\")\nfiles",
      "execution_count": null,
      "outputs": []
    },
    {
      "metadata": {
        "_uuid": "eb7605839b870a763599c315805c80468efa18b3"
      },
      "cell_type": "markdown",
      "source": "Now, lets start exploring these data files. \n\n### Exploration 1 - Department : Dept_23-00089 | Metric : Race, Sex, Age\n\nLets load the dataset"
    },
    {
      "metadata": {
        "_kg_hide-input": true,
        "trusted": true,
        "_uuid": "79c80293614f7ccdea108e1942823669d5f23fd3"
      },
      "cell_type": "code",
      "source": "basepath = \"../input/cpe-data/Dept_23-00089/23-00089_ACS_data/23-00089_ACS_race-sex-age/\"\nrca_df = pd.read_csv(basepath + \"ACS_15_5YR_DP05_with_ann.csv\")\nrca_df.head()",
      "execution_count": null,
      "outputs": []
    },
    {
      "metadata": {
        "_uuid": "aa8dcf97e2f75123b89452f355580d00cf589d02"
      },
      "cell_type": "markdown",
      "source": "The meanings of columns is given in an another file. Here is the description of all the columns used in the avove dataset. "
    },
    {
      "metadata": {
        "_kg_hide-input": true,
        "trusted": true,
        "_uuid": "ec838d2b2cc3b2b69dcca47428f3e06b259d855a"
      },
      "cell_type": "code",
      "source": "a_df = pd.read_csv(basepath + \"ACS_15_5YR_DP05_metadata.csv\")\n\n# for j, y in a_df.iterrows():\n#     if y['Id'].startswith(\"Estimate\"):\n#         print (y['GEO.id'], y['Id'])\n\na_df.head()",
      "execution_count": null,
      "outputs": []
    },
    {
      "metadata": {
        "_uuid": "340965bcb0f39bc8230f7e965f1b8e6c1a80bf8a"
      },
      "cell_type": "markdown",
      "source": "So there are coluns about Estimate, Margin of Error, Percent related to Sex, Age, Race, and Total Population. Lets start exploring these variables. \n\n### Distribution of Total Population across Census Tracts\n\n<br>\n\n**Census Tracts:** \nCensus tracts (CTs) are small, relatively stable geographic areas that usually have a population between 2,500 and 8,000 persons. They are located in census metropolitan areas and in census agglomerations that had a core population of 50,000 or more in the previous census.\n\n"
    },
    {
      "metadata": {
        "_kg_hide-input": true,
        "trusted": true,
        "_uuid": "021699fa72b53289becfd781d28a2ff1ebad2778"
      },
      "cell_type": "code",
      "source": "total_population = rca_df[\"HC01_VC03\"][1:]\n\ntrace = go.Histogram(x=total_population, marker=dict(color='orange', opacity=0.6))\nlayout = dict(title=\"Total Population Distribution - Across the counties\", margin=dict(l=200), width=800, height=400)\ndata = [trace]\nfig = go.Figure(data=data, layout=layout)\niplot(fig)\n\nmale_pop = rca_df[\"HC01_VC04\"][1:]\nfemale_pop = rca_df[\"HC01_VC05\"][1:]\ntrace1 = go.Histogram(x=male_pop, name=\"male %\", marker=dict(color='blue', opacity=0.6))\ntrace2 = go.Histogram(x=female_pop, name=\"female %\", marker=dict(color='pink', opacity=0.6))\nlayout = dict(title=\"Population Distribution Breakdown - Across the Census Tracts\", margin=dict(l=200), width=800, height=400)\ndata = [trace1, trace2]\nfig = go.Figure(data=data, layout=layout)\niplot(fig)",
      "execution_count": null,
      "outputs": []
    },
    {
      "metadata": {
        "_uuid": "744b78cad1c6ae7a4797fbb45609b527fac5aeb4"
      },
      "cell_type": "markdown",
      "source": "So about 50 census tracts have population around 3000 - 4000. One Census tract has very high population. Female gender percentage is higher in only two of the census tracts. \n\n### Distribution of Age Groups\n\nLets plot the census tract wise different agegroup's population count "
    },
    {
      "metadata": {
        "trusted": true,
        "_uuid": "af4b8af29ccbf7ba3c98b6ac855f2066110a693d",
        "_kg_hide-input": true
      },
      "cell_type": "code",
      "source": "age_cols = []\nnames = []\nfor i in range(13):\n    if i < 2:\n        i = \"0\"+str(i+8)\n        relcol = \"HC01_VC\" + str(i)\n    else:\n        relcol = \"HC01_VC\" + str(i+8)\n    age_cols.append(relcol)\n    name = a_df[a_df[\"GEO.id\"] == relcol][\"Id\"].iloc(0)[0].replace(\"Estimate; SEX AND AGE - \",\"\")\n    names.append(name)\n\nrca_df['GEO.display-label_cln'] = rca_df[\"GEO.display-label\"].apply(lambda x : x.replace(\", Marion County, Indiana\", \"\").replace(\"Census Tract \", \"CT: \"))\n\ntraces = []\nfor i,agecol in enumerate(age_cols):\n    x = rca_df[\"GEO.display-label_cln\"][1:]\n    y = rca_df[agecol][1:]\n    trace = go.Bar(y=y, x=x, name=names[i])\n    traces.append(trace)\n\ntmp = pd.DataFrame()\nvals = []\nGeo = []\nCol = []\nfor i,age_col in enumerate(age_cols):\n    Geo += list(rca_df[\"GEO.display-label_cln\"][1:].values)\n    Col += list([names[i]]*len(rca_df[1:]))\n    vals += list(rca_df[age_col][1:].values)\n\ntmp['Geo'] = Geo\ntmp['Col'] = Col\ntmp['Val'] = vals\ntmp['Val'] = tmp['Val'].astype(int)  * 0.01\n\ndata = [go.Scatter(x = tmp[\"Geo\"], y = tmp[\"Col\"], mode=\"markers\", marker=dict(size=list(tmp[\"Val\"].values)))]\nlayout = dict(title=\"Age Distribution by Census Tract - Marion County, Indiana\", legend=dict(x=-0.1, y=1, orientation=\"h\"), \n              margin=dict(l=150, b=100), height=600, barmode=\"stack\")\nfig = go.Figure(data=data, layout=layout)\niplot(fig)",
      "execution_count": null,
      "outputs": []
    },
    {
      "metadata": {
        "_uuid": "d7135ea8767b9aa2df3c57df27ac0540d5146763"
      },
      "cell_type": "markdown",
      "source": "The above plot gives a view about which age groups are located in which areas. Lets look at an other view of age group distributions. "
    },
    {
      "metadata": {
        "_kg_hide-input": true,
        "trusted": true,
        "_uuid": "fb4d4796e0186931839926340fb246830cfc2129"
      },
      "cell_type": "code",
      "source": "trace1 = go.Histogram(x = rca_df[\"HC01_VC26\"][1:], name=\"18+\", marker=dict(opacity=0.4)) \ntrace2 = go.Histogram(x = rca_df[\"HC01_VC27\"][1:], name=\"21+\", marker=dict(opacity=0.3)) \ntrace3 = go.Histogram(x = rca_df[\"HC01_VC28\"][1:], name=\"62+\", marker=dict(opacity=0.4)) \ntrace4 = go.Histogram(x = rca_df[\"HC01_VC29\"][1:], name=\"65+\", marker=dict(opacity=0.3)) \n\ntitles = [\"Age : 18+\",\"Age : 21+\",\"Age : 62+\",\"Age : 65+\",]\nfig = tools.make_subplots(rows=2, cols=2, print_grid=False, subplot_titles=titles)\nfig.append_trace(trace1, 1, 1);\nfig.append_trace(trace2, 1, 2);\nfig.append_trace(trace3, 2, 1);\nfig.append_trace(trace4, 2, 2);\nfig['layout'].update(height=600, title=\"Distribution of Age across the Census Tracts\", showlegend=False);\niplot(fig, filename='simple-subplot');",
      "execution_count": null,
      "outputs": []
    },
    {
      "metadata": {
        "_uuid": "8f3ba25d9c0ff0aa18a6d5f26798441f5419aed9"
      },
      "cell_type": "markdown",
      "source": "Let's plot the population distribution by different Race. First, lets consider only the single Race variables"
    },
    {
      "metadata": {
        "_kg_hide-input": true,
        "trusted": true,
        "_uuid": "6fa818f54ed2b7e153942f22cb16991a75eebfa6"
      },
      "cell_type": "code",
      "source": "single_race_df = rca_df[[\"HC01_VC49\", \"HC01_VC50\", \"HC01_VC51\", \"HC01_VC56\", \"HC01_VC64\", \"HC01_VC69\"]][1:]\nops = [1, 0.85, 0.75, 0.65, 0.55, 0.45]\ntraces = []\nfor i, col in enumerate(single_race_df.columns):\n    nm = a_df[a_df[\"GEO.id\"] == col][\"Id\"].iloc(0)[0].replace(\"Estimate; RACE - One race - \", \"\")\n    trace = go.Bar(x=rca_df[\"GEO.display-label_cln\"][1:], y=single_race_df[col], name=nm, marker=dict(opacity=0.6))\n    traces.append(trace)\nlayout = dict(barmode=\"stack\", title=\"Population Breakdown by Race (Single)\", margin=dict(b=100), height=600, legend=dict(x=-0.1, y=1, orientation=\"h\"))\nfig = go.Figure(data=traces, layout=layout)\niplot(fig)",
      "execution_count": null,
      "outputs": []
    },
    {
      "metadata": {
        "_uuid": "1c1c985c3c6181cd17a62d5ea98386a94175ac6f"
      },
      "cell_type": "markdown",
      "source": "We can see that majority wise White or Black American population exists. It will be interesting to look at which ones are the dominating other races. Lets remove white and black population and plot again"
    },
    {
      "metadata": {
        "_kg_hide-input": true,
        "trusted": true,
        "_uuid": "61dab23b490a6e28e8f49cc17cef828356f645ed"
      },
      "cell_type": "code",
      "source": "traces = []\nfor i, col in enumerate(single_race_df.columns):\n    nm = a_df[a_df[\"GEO.id\"] == col][\"Id\"].iloc(0)[0].replace(\"Estimate; RACE - One race - \", \"\")\n    if nm in [\"White\", \"Black or African American\"]:\n        continue\n    trace = go.Bar(x=rca_df[\"GEO.display-label_cln\"][1:], y=single_race_df[col], name=nm, marker=dict(opacity=0.6))\n    traces.append(trace)\nlayout = dict(barmode=\"stack\", title=\"Population Breakdown by Race (Single)\", margin=dict(b=100), height=400, legend=dict(x=-0.1, y=1, orientation=\"h\"))\nfig = go.Figure(data=traces, layout=layout)\niplot(fig)",
      "execution_count": null,
      "outputs": []
    },
    {
      "metadata": {
        "trusted": true,
        "_uuid": "351a57e42e8633e8155528002a604ed642bd15fa"
      },
      "cell_type": "code",
      "source": "## .. ",
      "execution_count": null,
      "outputs": []
    },
    {
      "metadata": {
        "_uuid": "4500fd00a588da5ab3b4b69754f3a744b188234f"
      },
      "cell_type": "markdown",
      "source": "Lets, also look at other files - (Incomplete Exploration)\n\n\n### Department : Dept_23-00089 | Metric : Poverty\n"
    },
    {
      "metadata": {
        "_kg_hide-input": true,
        "trusted": true,
        "_uuid": "40cc2542ed643efc488b6e7779f0d5dde70efbde"
      },
      "cell_type": "code",
      "source": "basepath2 = \"../input/cpe-data/Dept_23-00089/23-00089_ACS_data/23-00089_ACS_poverty/\"\na_df = pd.read_csv(basepath2 + \"ACS_16_5YR_S1701_metadata.csv\")\na_df.T.head()",
      "execution_count": null,
      "outputs": []
    },
    {
      "metadata": {
        "_kg_hide-input": true,
        "trusted": true,
        "_uuid": "e1faa61f48be454326787473bf43307255f84c85"
      },
      "cell_type": "code",
      "source": "pov_df = pd.read_csv(basepath2 + \"ACS_16_5YR_S1701_with_ann.csv\")\npov_df.head()",
      "execution_count": null,
      "outputs": []
    },
    {
      "metadata": {
        "_uuid": "df0ff9863c0184a3c9326af1383548424f1e5156"
      },
      "cell_type": "markdown",
      "source": "### Department : Dept_23-00089 | Metric : Owner Occupied Housing\n"
    },
    {
      "metadata": {
        "_kg_hide-input": true,
        "trusted": true,
        "_uuid": "e0413a09ded56259379cbd2c981328d882dd6c7a"
      },
      "cell_type": "code",
      "source": "basepath = \"../input/cpe-data/Dept_23-00089/23-00089_ACS_data/23-00089_ACS_owner-occupied-housing/\"\na_df = pd.read_csv(basepath + \"ACS_16_5YR_S2502_metadata.csv\")\na_df.T.head()",
      "execution_count": null,
      "outputs": []
    },
    {
      "metadata": {
        "_kg_hide-input": true,
        "trusted": true,
        "_uuid": "bb1fc97443c0e0f5da97a82274cb709cf6f54a8d"
      },
      "cell_type": "code",
      "source": "a_df = pd.read_csv(basepath + \"ACS_16_5YR_S2502_with_ann.csv\")\na_df.T.head()",
      "execution_count": null,
      "outputs": []
    },
    {
      "metadata": {
        "_uuid": "e63c5caac60a995abd907efe93a05188b079ee7f"
      },
      "cell_type": "markdown",
      "source": "### Department : Dept_23-00089 | Metric : Education\n"
    },
    {
      "metadata": {
        "_kg_hide-input": true,
        "trusted": true,
        "_uuid": "b096098e8d95fe092b3e10bd55b5843a89234eb5"
      },
      "cell_type": "code",
      "source": "basepath = \"../input/cpe-data/Dept_23-00089/23-00089_ACS_data/23-00089_ACS_education-attainment/\"\na_df = pd.read_csv(basepath + \"ACS_16_5YR_S1501_metadata.csv\")\na_df.T.head()",
      "execution_count": null,
      "outputs": []
    },
    {
      "metadata": {
        "_kg_hide-input": true,
        "trusted": true,
        "_uuid": "abf16e4fb84625a24668a6240bf2bbb7fb007f2a"
      },
      "cell_type": "code",
      "source": "a_df = pd.read_csv(basepath + \"ACS_16_5YR_S1501_with_ann.csv\")\na_df.T.head()",
      "execution_count": null,
      "outputs": []
    },
    {
      "metadata": {
        "_uuid": "51551c1ed6737e42b07f373fd9274574db0f4763"
      },
      "cell_type": "markdown",
      "source": "Some other files contain shape files. Lets plot them as well. \n\n### Indianapolis Police Zones\n\nLets plot the shape file and related data "
    },
    {
      "metadata": {
        "_kg_hide-input": true,
        "trusted": true,
        "_uuid": "5fb7860ab303e92ba0d2f25ac32618616d995e08"
      },
      "cell_type": "code",
      "source": "p1 = \"\"\"../input/cpe-data/Dept_23-00089/23-00089_Shapefiles/Indianapolis_Police_Zones.shp\"\"\"\nOne = gpd.read_file(p1)  \nOne.head()",
      "execution_count": null,
      "outputs": []
    },
    {
      "metadata": {
        "_kg_hide-input": true,
        "trusted": true,
        "_uuid": "a47e3dfec3f5ba48da194c9d8fc62e961044884e"
      },
      "cell_type": "code",
      "source": "mapa = folium.Map([39.81, -86.26060805912148], height=400, zoom_start=10, tiles='CartoDB dark_matter',API_key='wrobstory.map-12345678')\nfolium.GeoJson(One).add_to(mapa)\nmapa ",
      "execution_count": null,
      "outputs": []
    },
    {
      "metadata": {
        "_uuid": "ad256d9d5827d8752e4e7b7df7f1f76d30c01460"
      },
      "cell_type": "markdown",
      "source": "Lets plot the districts and juridiction realted with this shapefile data"
    },
    {
      "metadata": {
        "_kg_hide-input": true,
        "trusted": true,
        "_uuid": "4647b0ec94bfad3c90be818404b2fde7e98f58c7"
      },
      "cell_type": "code",
      "source": "f, ax = plt.subplots(1, figsize=(10, 8))\nOne.plot(column=\"DISTRICT\", ax=ax, cmap='Accent',legend=True);\nplt.title(\"Districts : Indianapolis Police Zones\")\nplt.show()",
      "execution_count": null,
      "outputs": []
    },
    {
      "metadata": {
        "_kg_hide-input": true,
        "trusted": true,
        "_uuid": "26287df353b0f4a005d00949f22a25a205b49a6f"
      },
      "cell_type": "code",
      "source": "f, ax = plt.subplots(1, figsize=(10, 8))\nOne.plot(column=\"JURISDCTN\", ax=ax, cmap='Accent', legend=True);\nplt.title(\"JuriDiction : Indianapolis Police Zones\")\nplt.show()",
      "execution_count": null,
      "outputs": []
    },
    {
      "metadata": {
        "_uuid": "c0585f1d3920c259f4ce4a094abedb1c6aa3e07c"
      },
      "cell_type": "markdown",
      "source": "### CPMD Police Division Offices"
    },
    {
      "metadata": {
        "_kg_hide-input": true,
        "trusted": true,
        "_uuid": "352a0dd6637c4e12fbf6218183e549f7468d7f74"
      },
      "cell_type": "code",
      "source": "p2 = \"\"\"../input/cpe-data/Dept_35-00103/35-00103_Shapefiles/CMPD_Police_Division_Offices.shp\"\"\"\nOne = gpd.read_file(p2) \n\npmap = folium.Map(location=[35.15637558, -80.75600938], height=400, tiles='CartoDB dark_matter', zoom_start=10)\nfor j, rown in One.iterrows():\n    lon = float(str(rown[\"geometry\"]).split()[1].replace(\"(\",\"\"))\n    lat = float(str(rown[\"geometry\"]).split()[2].replace(\")\",\"\"))\n    folium.CircleMarker([lat, lon], radius=4, color='red', fill=True).add_to(pmap)\npmap",
      "execution_count": null,
      "outputs": []
    },
    {
      "metadata": {
        "_uuid": "08c683ba72dd058f8df44c2b225b7ef1b36f2078"
      },
      "cell_type": "markdown",
      "source": "### Bostan Police Districts"
    },
    {
      "metadata": {
        "_kg_hide-input": true,
        "trusted": true,
        "_uuid": "4c34ec736da4968265326af8fd69fdfe6e2adb0a"
      },
      "cell_type": "code",
      "source": "p3 = \"\"\"../input/cpe-data/Dept_11-00091/11-00091_Shapefiles/boston_police_districts_f55.shp\"\"\"\nOne = gpd.read_file(p3)  \nmapa = folium.Map([42.3, -71.0], height=400, zoom_start=10,  tiles='CartoDB dark_matter',API_key='wrobstory.map-12345678')\nfolium.GeoJson(One).add_to(mapa)\nmapa ",
      "execution_count": null,
      "outputs": []
    },
    {
      "metadata": {
        "_uuid": "32e5dec55702dfac9d70f21649e448de46ed5c5b"
      },
      "cell_type": "markdown",
      "source": "### Dallas Districts"
    },
    {
      "metadata": {
        "_kg_hide-input": true,
        "trusted": true,
        "_uuid": "b2320cbf458e064213db912dec05948f4c402976"
      },
      "cell_type": "code",
      "source": "p4 = \"\"\"../input/cpe-data/Dept_37-00049/37-00049_Shapefiles/EPIC.shp\"\"\"\nOne = gpd.read_file(p4)  \nmapa = folium.Map([32.7, -96.7],zoom_start=10, height=400, tiles='CartoDB dark_matter',API_key='wrobstory.map-12345678')\nfolium.GeoJson(One).add_to(mapa)\nmapa ",
      "execution_count": null,
      "outputs": []
    },
    {
      "metadata": {
        "_uuid": "8960cfdef1b2455285d8005fccaec29381d7ffb6"
      },
      "cell_type": "markdown",
      "source": "### In Progress, \n#### Thanks, Do Upvote\n"
    },
    {
      "metadata": {
        "trusted": true,
        "_uuid": "c0f62bd9e08d79e4c62d34ce6cd7db642c6f7d0f"
      },
      "cell_type": "code",
      "source": "",
      "execution_count": null,
      "outputs": []
    }
  ],
  "metadata": {
    "kernelspec": {
      "display_name": "Python 3",
      "language": "python",
      "name": "python3"
    },
    "language_info": {
      "name": "python",
      "version": "3.6.6",
      "mimetype": "text/x-python",
      "codemirror_mode": {
        "name": "ipython",
        "version": 3
      },
      "pygments_lexer": "ipython3",
      "nbconvert_exporter": "python",
      "file_extension": ".py"
    }
  },
  "nbformat": 4,
  "nbformat_minor": 1
}