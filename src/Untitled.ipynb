{
 "cells": [
  {
   "cell_type": "code",
   "execution_count": null,
   "metadata": {},
   "outputs": [],
   "source": [
    "import numpy as np\n",
    "import matplotlib.pyplot as plt\n",
    "import fiona\n",
    "import pandas as pd\n",
    "\n",
    "state_shapefile_path = \"us-states-cartographic-boundary-shapefiles/cb_2016_48_cousub_500k.shp\"\n",
    "state_shapefile = fiona.open(state_shapefile_path)\n",
    "\n",
    "department_shapefile_path = \"provided-data/Dept_37-00049/37-00049_Shapefiles/EPIC.shp\"\n",
    "# crs = 'NAD_1983_StatePlane_Texas_North_Central_FIPS_4202_Feet'\n",
    "department_shapefile = fiona.open(department_shapefile_path)"
   ]
  },
  {
   "cell_type": "code",
   "execution_count": null,
   "metadata": {},
   "outputs": [],
   "source": [
    "print(department_shapefile.crs)"
   ]
  },
  {
   "cell_type": "code",
   "execution_count": null,
   "metadata": {},
   "outputs": [],
   "source": [
    "rec = next(iter(department_shapefile))\n",
    "rec.keys()"
   ]
  },
  {
   "cell_type": "code",
   "execution_count": null,
   "metadata": {},
   "outputs": [],
   "source": [
    "from pyproj import Proj, transform\n",
    "\n",
    "coords = rec['geometry']['coordinates']\n",
    "department_polygon = {'id':rec['id'], 'coordinates':[]}\n",
    "for coord in coords:\n",
    "    for x, y in coord:\n",
    "        projstring = '+datum=NAD83 +lat_0=31.66666666666667 +lat_1=32.13333333333333 +lat_2=33.96666666666667 +lon_0=-98.5 +no_defs +proj=lcc +units=us-ft +x_0=600000 +y_0=2000000'\n",
    "        myproj = Proj(projstring, preserve_units=True)\n",
    "        newcoord = myproj(x, y, inverse=True)\n",
    "        department_polygon['coordinates'].append(newcoord)\n",
    "        \n",
    "department_polygon"
   ]
  },
  {
   "cell_type": "code",
   "execution_count": null,
   "metadata": {},
   "outputs": [],
   "source": []
  },
  {
   "cell_type": "code",
   "execution_count": null,
   "metadata": {},
   "outputs": [],
   "source": [
    "acs_path = \"provided-data/Dept_37-00049/37-00049_ACS_data/37-00049_ACS_race-sex-age/ACS_15_5YR_DP05_with_ann.csv\"\n",
    "acs_values = pd.read_csv(acs_path)"
   ]
  },
  {
   "cell_type": "code",
   "execution_count": null,
   "metadata": {},
   "outputs": [],
   "source": [
    "from fiona.crs import from_epsg\n",
    "from fiona.crs import to_string\n",
    "\n",
    "print(to_string(department_shapefile.crs))"
   ]
  },
  {
   "cell_type": "code",
   "execution_count": null,
   "metadata": {},
   "outputs": [],
   "source": [
    "state_rec = next(iter(state_shapefile))"
   ]
  },
  {
   "cell_type": "code",
   "execution_count": null,
   "metadata": {},
   "outputs": [],
   "source": [
    "state_rec['geometry']['coordinates']"
   ]
  },
  {
   "cell_type": "code",
   "execution_count": null,
   "metadata": {},
   "outputs": [],
   "source": []
  },
  {
   "cell_type": "code",
   "execution_count": null,
   "metadata": {},
   "outputs": [],
   "source": []
  },
  {
   "cell_type": "code",
   "execution_count": 2,
   "metadata": {},
   "outputs": [
    {
     "data": {
      "text/html": [
       "<div>\n",
       "<style scoped>\n",
       "    .dataframe tbody tr th:only-of-type {\n",
       "        vertical-align: middle;\n",
       "    }\n",
       "\n",
       "    .dataframe tbody tr th {\n",
       "        vertical-align: top;\n",
       "    }\n",
       "\n",
       "    .dataframe thead th {\n",
       "        text-align: right;\n",
       "    }\n",
       "</style>\n",
       "<table border=\"1\" class=\"dataframe\">\n",
       "  <thead>\n",
       "    <tr style=\"text-align: right;\">\n",
       "      <th></th>\n",
       "      <th>Name</th>\n",
       "      <th>Shape_STAr</th>\n",
       "      <th>Shape_STLe</th>\n",
       "      <th>geometry</th>\n",
       "    </tr>\n",
       "  </thead>\n",
       "  <tbody>\n",
       "    <tr>\n",
       "      <th>0</th>\n",
       "      <td>EPIC_Fair Park</td>\n",
       "      <td>9.312213e+07</td>\n",
       "      <td>70821.503172</td>\n",
       "      <td>POLYGON ((2510120.998828113 6975276.747940272,...</td>\n",
       "    </tr>\n",
       "    <tr>\n",
       "      <th>1</th>\n",
       "      <td>EPIC_CampWisdomCorridor</td>\n",
       "      <td>1.139695e+08</td>\n",
       "      <td>57536.951272</td>\n",
       "      <td>POLYGON ((2472098.504007116 6931264.971462682,...</td>\n",
       "    </tr>\n",
       "    <tr>\n",
       "      <th>2</th>\n",
       "      <td>EPIC West Dallas</td>\n",
       "      <td>1.258257e+08</td>\n",
       "      <td>45373.481738</td>\n",
       "      <td>POLYGON ((2477263.138690948 6964841.607721359,...</td>\n",
       "    </tr>\n",
       "    <tr>\n",
       "      <th>3</th>\n",
       "      <td>EPIC Vickery Meadow</td>\n",
       "      <td>5.226778e+07</td>\n",
       "      <td>30305.941933</td>\n",
       "      <td>POLYGON ((2503591.259262949 7008808.840324774,...</td>\n",
       "    </tr>\n",
       "    <tr>\n",
       "      <th>4</th>\n",
       "      <td>EPIC_Lancaster Corridor</td>\n",
       "      <td>7.831274e+07</td>\n",
       "      <td>39182.926747</td>\n",
       "      <td>POLYGON ((2498968.657615781 6946676.269380182,...</td>\n",
       "    </tr>\n",
       "    <tr>\n",
       "      <th>5</th>\n",
       "      <td>EPIC Forest Audelia</td>\n",
       "      <td>4.488890e+07</td>\n",
       "      <td>27326.309855</td>\n",
       "      <td>POLYGON ((2515405.759912103 7023939.382898271,...</td>\n",
       "    </tr>\n",
       "  </tbody>\n",
       "</table>\n",
       "</div>"
      ],
      "text/plain": [
       "                      Name    Shape_STAr    Shape_STLe  \\\n",
       "0           EPIC_Fair Park  9.312213e+07  70821.503172   \n",
       "1  EPIC_CampWisdomCorridor  1.139695e+08  57536.951272   \n",
       "2         EPIC West Dallas  1.258257e+08  45373.481738   \n",
       "3      EPIC Vickery Meadow  5.226778e+07  30305.941933   \n",
       "4  EPIC_Lancaster Corridor  7.831274e+07  39182.926747   \n",
       "5      EPIC Forest Audelia  4.488890e+07  27326.309855   \n",
       "\n",
       "                                            geometry  \n",
       "0  POLYGON ((2510120.998828113 6975276.747940272,...  \n",
       "1  POLYGON ((2472098.504007116 6931264.971462682,...  \n",
       "2  POLYGON ((2477263.138690948 6964841.607721359,...  \n",
       "3  POLYGON ((2503591.259262949 7008808.840324774,...  \n",
       "4  POLYGON ((2498968.657615781 6946676.269380182,...  \n",
       "5  POLYGON ((2515405.759912103 7023939.382898271,...  "
      ]
     },
     "execution_count": 2,
     "metadata": {},
     "output_type": "execute_result"
    }
   ],
   "source": [
    "import pandas as pd\n",
    "import geopandas as gpd\n",
    "\n",
    "df = gpd.read_file('provided-data/Dept_37-00049/37-00049_Shapefiles/EPIC.shp')"
   ]
  },
  {
   "cell_type": "code",
   "execution_count": null,
   "metadata": {},
   "outputs": [],
   "source": []
  }
 ],
 "metadata": {
  "kernelspec": {
   "display_name": "Python 3",
   "language": "python",
   "name": "python3"
  },
  "language_info": {
   "codemirror_mode": {
    "name": "ipython",
    "version": 3
   },
   "file_extension": ".py",
   "mimetype": "text/x-python",
   "name": "python",
   "nbconvert_exporter": "python",
   "pygments_lexer": "ipython3",
   "version": "3.6.6"
  }
 },
 "nbformat": 4,
 "nbformat_minor": 2
}
