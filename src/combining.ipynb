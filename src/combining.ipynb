{
 "cells": [
  {
   "cell_type": "code",
   "execution_count": 1,
   "metadata": {},
   "outputs": [],
   "source": [
    "from acsdata import AcsData\n",
    "from stop import Stop\n",
    "import pandas as pd\n",
    "import datetime\n"
   ]
  },
  {
   "cell_type": "code",
   "execution_count": 2,
   "metadata": {},
   "outputs": [],
   "source": [
    "import glob\n",
    "files = glob.glob(\"data/stop_data/*.csv\")"
   ]
  },
  {
   "cell_type": "code",
   "execution_count": 3,
   "metadata": {},
   "outputs": [
    {
     "name": "stderr",
     "output_type": "stream",
     "text": [
      "/Users/shawnveltman/anaconda3/envs/geo/lib/python3.6/site-packages/IPython/core/interactiveshell.py:2961: DtypeWarning: Columns (1,3,5,7,8,9,10,11,12,13,14,15,16,17,18,19,20,21,22,23,24,25,27,28,29,30,31,32,33,34,35,36,37,38,39,40,41,42,43,44) have mixed types. Specify dtype option on import or set low_memory=False.\n",
      "  exec(code_obj, self.user_global_ns, self.user_ns)\n",
      "/Users/shawnveltman/anaconda3/envs/geo/lib/python3.6/site-packages/pandas/core/frame.py:3140: SettingWithCopyWarning: \n",
      "A value is trying to be set on a copy of a slice from a DataFrame.\n",
      "Try using .loc[row_indexer,col_indexer] = value instead\n",
      "\n",
      "See the caveats in the documentation: http://pandas.pydata.org/pandas-docs/stable/indexing.html#indexing-view-versus-copy\n",
      "  self[k1] = value[k2]\n",
      "/Users/shawnveltman/code/python/forgood/src/acsdata.py:39: SettingWithCopyWarning: \n",
      "A value is trying to be set on a copy of a slice from a DataFrame.\n",
      "Try using .loc[row_indexer,col_indexer] = value instead\n",
      "\n",
      "See the caveats in the documentation: http://pandas.pydata.org/pandas-docs/stable/indexing.html#indexing-view-versus-copy\n",
      "  df['county_fips'] = fips\n",
      "/Users/shawnveltman/code/python/forgood/src/acsdata.py:41: SettingWithCopyWarning: \n",
      "A value is trying to be set on a copy of a slice from a DataFrame.\n",
      "Try using .loc[row_indexer,col_indexer] = value instead\n",
      "\n",
      "See the caveats in the documentation: http://pandas.pydata.org/pandas-docs/stable/indexing.html#indexing-view-versus-copy\n",
      "  df['hispanic'] = df[hispanic_values].sum(axis=1)\n",
      "/Users/shawnveltman/code/python/forgood/src/acsdata.py:42: SettingWithCopyWarning: \n",
      "A value is trying to be set on a copy of a slice from a DataFrame.\n",
      "Try using .loc[row_indexer,col_indexer] = value instead\n",
      "\n",
      "See the caveats in the documentation: http://pandas.pydata.org/pandas-docs/stable/indexing.html#indexing-view-versus-copy\n",
      "  df['other'] = df[native_cols].sum(axis=1)\n",
      "/Users/shawnveltman/anaconda3/envs/geo/lib/python3.6/site-packages/pandas/core/frame.py:3697: SettingWithCopyWarning: \n",
      "A value is trying to be set on a copy of a slice from a DataFrame\n",
      "\n",
      "See the caveats in the documentation: http://pandas.pydata.org/pandas-docs/stable/indexing.html#indexing-view-versus-copy\n",
      "  errors=errors)\n",
      "/Users/shawnveltman/anaconda3/envs/geo/lib/python3.6/site-packages/pandas/core/frame.py:3781: SettingWithCopyWarning: \n",
      "A value is trying to be set on a copy of a slice from a DataFrame\n",
      "\n",
      "See the caveats in the documentation: http://pandas.pydata.org/pandas-docs/stable/indexing.html#indexing-view-versus-copy\n",
      "  return super(DataFrame, self).rename(**kwargs)\n"
     ]
    }
   ],
   "source": [
    "acs = AcsData()"
   ]
  },
  {
   "cell_type": "code",
   "execution_count": 4,
   "metadata": {},
   "outputs": [
    {
     "name": "stdout",
     "output_type": "stream",
     "text": [
      "Skipping data/stop_data/WA-clean.csv\n",
      "Skipping data/stop_data/IA-clean.csv\n",
      "Skipping data/stop_data/WY-clean.csv\n",
      "Starting data/stop_data/SC-clean.csv\n"
     ]
    },
    {
     "name": "stderr",
     "output_type": "stream",
     "text": [
      "/Users/shawnveltman/anaconda3/envs/geo/lib/python3.6/site-packages/IPython/core/interactiveshell.py:2961: DtypeWarning: Columns (21) have mixed types. Specify dtype option on import or set low_memory=False.\n",
      "  exec(code_obj, self.user_global_ns, self.user_ns)\n"
     ]
    },
    {
     "name": "stdout",
     "output_type": "stream",
     "text": [
      "data/stop_data/SC-clean.csv - 1000000 - 19:27:06\n",
      "data/stop_data/SC-clean.csv - 2000000 - 19:27:28\n",
      "data/stop_data/SC-clean.csv - 3000000 - 19:27:47\n",
      "data/stop_data/SC-clean.csv - 4000000 - 19:28:07\n",
      "data/stop_data/SC-clean.csv - 5000000 - 19:28:33\n",
      "data/stop_data/SC-clean.csv - 6000000 - 19:28:46\n",
      "data/stop_data/SC-clean.csv - 7000000 - 19:28:59\n",
      "data/stop_data/SC-clean.csv - 8000000 - 19:29:11\n",
      "data/stop_data/SC-clean.csv - 9000000 - 19:29:20\n",
      "Starting data/stop_data/IL-clean.csv\n"
     ]
    },
    {
     "name": "stderr",
     "output_type": "stream",
     "text": [
      "/Users/shawnveltman/anaconda3/envs/geo/lib/python3.6/site-packages/IPython/core/interactiveshell.py:2961: DtypeWarning: Columns (24) have mixed types. Specify dtype option on import or set low_memory=False.\n",
      "  exec(code_obj, self.user_global_ns, self.user_ns)\n"
     ]
    },
    {
     "name": "stdout",
     "output_type": "stream",
     "text": [
      "data/stop_data/IL-clean.csv - 1000000 - 19:29:29\n",
      "data/stop_data/IL-clean.csv - 2000000 - 19:29:38\n",
      "data/stop_data/IL-clean.csv - 3000000 - 19:29:46\n",
      "data/stop_data/IL-clean.csv - 4000000 - 19:29:54\n"
     ]
    },
    {
     "name": "stderr",
     "output_type": "stream",
     "text": [
      "/Users/shawnveltman/anaconda3/envs/geo/lib/python3.6/site-packages/IPython/core/interactiveshell.py:2961: DtypeWarning: Columns (7) have mixed types. Specify dtype option on import or set low_memory=False.\n",
      "  exec(code_obj, self.user_global_ns, self.user_ns)\n"
     ]
    },
    {
     "name": "stdout",
     "output_type": "stream",
     "text": [
      "data/stop_data/IL-clean.csv - 5000000 - 19:30:00\n",
      "Starting data/stop_data/OH-clean.csv\n",
      "data/stop_data/OH-clean.csv - 1000000 - 19:30:08\n",
      "data/stop_data/OH-clean.csv - 2000000 - 19:30:20\n",
      "data/stop_data/OH-clean.csv - 3000000 - 19:30:32\n",
      "data/stop_data/OH-clean.csv - 4000000 - 19:30:45\n",
      "data/stop_data/OH-clean.csv - 5000000 - 19:31:06\n",
      "data/stop_data/OH-clean.csv - 6000000 - 19:31:22\n",
      "data/stop_data/OH-clean.csv - 7000000 - 19:31:29\n",
      "Starting data/stop_data/CA-clean.csv\n",
      "data/stop_data/CA-clean.csv - 1000000 - 19:31:36\n",
      "data/stop_data/CA-clean.csv - 2000000 - 19:31:46\n",
      "data/stop_data/CA-clean.csv - 3000000 - 19:32:00\n",
      "data/stop_data/CA-clean.csv - 4000000 - 19:32:15\n",
      "data/stop_data/CA-clean.csv - 5000000 - 19:32:47\n",
      "data/stop_data/CA-clean.csv - 6000000 - 19:33:18\n",
      "data/stop_data/CA-clean.csv - 7000000 - 19:33:52\n",
      "data/stop_data/CA-clean.csv - 8000000 - 19:34:20\n",
      "data/stop_data/CA-clean.csv - 9000000 - 19:34:49\n",
      "data/stop_data/CA-clean.csv - 10000000 - 19:35:18\n",
      "data/stop_data/CA-clean.csv - 11000000 - 19:35:47\n",
      "data/stop_data/CA-clean.csv - 12000000 - 19:36:07\n",
      "data/stop_data/CA-clean.csv - 13000000 - 19:36:35\n",
      "data/stop_data/CA-clean.csv - 14000000 - 19:37:13\n",
      "data/stop_data/CA-clean.csv - 15000000 - 19:38:06\n",
      "data/stop_data/CA-clean.csv - 16000000 - 19:38:54\n",
      "data/stop_data/CA-clean.csv - 17000000 - 19:39:37\n",
      "data/stop_data/CA-clean.csv - 18000000 - 19:40:09\n",
      "data/stop_data/CA-clean.csv - 19000000 - 19:40:20\n",
      "data/stop_data/CA-clean.csv - 20000000 - 19:40:53\n",
      "data/stop_data/CA-clean.csv - 21000000 - 19:41:24\n",
      "data/stop_data/CA-clean.csv - 22000000 - 19:41:56\n",
      "data/stop_data/CA-clean.csv - 23000000 - 19:42:27\n",
      "data/stop_data/CA-clean.csv - 24000000 - 19:42:46\n",
      "data/stop_data/CA-clean.csv - 25000000 - 19:43:03\n",
      "data/stop_data/CA-clean.csv - 26000000 - 19:43:13\n",
      "data/stop_data/CA-clean.csv - 27000000 - 19:43:23\n",
      "data/stop_data/CA-clean.csv - 28000000 - 19:43:56\n",
      "data/stop_data/CA-clean.csv - 29000000 - 19:44:26\n",
      "data/stop_data/CA-clean.csv - 30000000 - 19:44:56\n",
      "data/stop_data/CA-clean.csv - 31000000 - 19:45:18\n",
      "data/stop_data/CA-clean.csv - 32000000 - 19:45:32\n",
      "Starting data/stop_data/MI-clean.csv\n",
      "data/stop_data/MI-clean.csv - 1000000 - 19:45:48\n",
      "Starting data/stop_data/CT-clean.csv\n"
     ]
    },
    {
     "name": "stderr",
     "output_type": "stream",
     "text": [
      "/Users/shawnveltman/anaconda3/envs/geo/lib/python3.6/site-packages/IPython/core/interactiveshell.py:2961: DtypeWarning: Columns (22) have mixed types. Specify dtype option on import or set low_memory=False.\n",
      "  exec(code_obj, self.user_global_ns, self.user_ns)\n"
     ]
    },
    {
     "name": "stdout",
     "output_type": "stream",
     "text": [
      "data/stop_data/CT-clean.csv - 1000000 - 19:45:52\n",
      "Starting data/stop_data/SD-clean.csv\n",
      "data/stop_data/SD-clean.csv - 1000000 - 19:45:56\n",
      "Starting data/stop_data/TN-clean.csv\n",
      "data/stop_data/TN-clean.csv - 1000000 - 19:46:01\n",
      "data/stop_data/TN-clean.csv - 2000000 - 19:46:09\n",
      "data/stop_data/TN-clean.csv - 3000000 - 19:46:17\n",
      "data/stop_data/TN-clean.csv - 4000000 - 19:46:40\n",
      "Starting data/stop_data/MD-clean.csv\n"
     ]
    },
    {
     "name": "stderr",
     "output_type": "stream",
     "text": [
      "/Users/shawnveltman/anaconda3/envs/geo/lib/python3.6/site-packages/IPython/core/interactiveshell.py:2961: DtypeWarning: Columns (3,7,10,14,15,17,18,20,22,23) have mixed types. Specify dtype option on import or set low_memory=False.\n",
      "  exec(code_obj, self.user_global_ns, self.user_ns)\n"
     ]
    },
    {
     "name": "stdout",
     "output_type": "stream",
     "text": [
      "data/stop_data/MD-clean.csv - 1000000 - 19:47:13\n",
      "data/stop_data/MD-clean.csv - 2000000 - 19:47:17\n",
      "Starting data/stop_data/FL-clean.csv\n",
      "data/stop_data/FL-clean.csv - 1000000 - 19:47:40\n",
      "data/stop_data/FL-clean.csv - 2000000 - 19:48:24\n",
      "data/stop_data/FL-clean.csv - 3000000 - 19:49:13\n",
      "data/stop_data/FL-clean.csv - 4000000 - 19:49:58\n"
     ]
    },
    {
     "name": "stderr",
     "output_type": "stream",
     "text": [
      "/Users/shawnveltman/anaconda3/envs/geo/lib/python3.6/site-packages/IPython/core/interactiveshell.py:2961: DtypeWarning: Columns (9,16,21,26,27) have mixed types. Specify dtype option on import or set low_memory=False.\n",
      "  exec(code_obj, self.user_global_ns, self.user_ns)\n"
     ]
    },
    {
     "name": "stdout",
     "output_type": "stream",
     "text": [
      "data/stop_data/FL-clean.csv - 5000000 - 19:50:44\n",
      "data/stop_data/FL-clean.csv - 6000000 - 19:51:16\n",
      "Starting data/stop_data/MO-clean.csv\n",
      "data/stop_data/MO-clean.csv - 1000000 - 19:51:36\n",
      "data/stop_data/MO-clean.csv - 2000000 - 19:51:48\n",
      "data/stop_data/MO-clean.csv - 3000000 - 19:51:51\n",
      "Starting data/stop_data/NJ-clean.csv\n",
      "data/stop_data/NJ-clean.csv - 1000000 - 19:52:12\n",
      "data/stop_data/NJ-clean.csv - 2000000 - 19:52:55\n",
      "data/stop_data/NJ-clean.csv - 3000000 - 19:53:41\n",
      "data/stop_data/NJ-clean.csv - 4000000 - 19:54:21\n",
      "Starting data/stop_data/VA-clean.csv\n",
      "data/stop_data/VA-clean.csv - 1000000 - 19:54:51\n",
      "data/stop_data/VA-clean.csv - 2000000 - 19:55:18\n",
      "data/stop_data/VA-clean.csv - 3000000 - 19:55:45\n",
      "data/stop_data/VA-clean.csv - 4000000 - 19:56:16\n",
      "data/stop_data/VA-clean.csv - 5000000 - 19:56:46\n",
      "data/stop_data/VA-clean.csv - 6000000 - 19:57:00\n",
      "Starting data/stop_data/VT-clean.csv\n"
     ]
    },
    {
     "name": "stderr",
     "output_type": "stream",
     "text": [
      "/Users/shawnveltman/anaconda3/envs/geo/lib/python3.6/site-packages/IPython/core/interactiveshell.py:2961: DtypeWarning: Columns (19) have mixed types. Specify dtype option on import or set low_memory=False.\n",
      "  exec(code_obj, self.user_global_ns, self.user_ns)\n"
     ]
    },
    {
     "name": "stdout",
     "output_type": "stream",
     "text": [
      "data/stop_data/VT-clean.csv - 1000000 - 19:57:08\n",
      "Starting data/stop_data/TX-clean.csv\n",
      "data/stop_data/TX-clean.csv - 1000000 - 19:57:32\n",
      "data/stop_data/TX-clean.csv - 2000000 - 19:58:09\n"
     ]
    },
    {
     "name": "stderr",
     "output_type": "stream",
     "text": [
      "/Users/shawnveltman/anaconda3/envs/geo/lib/python3.6/site-packages/IPython/core/interactiveshell.py:2961: DtypeWarning: Columns (7,24) have mixed types. Specify dtype option on import or set low_memory=False.\n",
      "  exec(code_obj, self.user_global_ns, self.user_ns)\n"
     ]
    },
    {
     "name": "stdout",
     "output_type": "stream",
     "text": [
      "data/stop_data/TX-clean.csv - 3000000 - 19:58:47\n",
      "data/stop_data/TX-clean.csv - 4000000 - 19:59:27\n",
      "data/stop_data/TX-clean.csv - 5000000 - 20:00:07\n",
      "data/stop_data/TX-clean.csv - 6000000 - 20:00:39\n",
      "data/stop_data/TX-clean.csv - 7000000 - 20:00:56\n",
      "data/stop_data/TX-clean.csv - 8000000 - 20:01:10\n",
      "data/stop_data/TX-clean.csv - 9000000 - 20:01:25\n",
      "data/stop_data/TX-clean.csv - 10000000 - 20:01:39\n",
      "data/stop_data/TX-clean.csv - 11000000 - 20:02:03\n"
     ]
    },
    {
     "name": "stderr",
     "output_type": "stream",
     "text": [
      "/Users/shawnveltman/anaconda3/envs/geo/lib/python3.6/site-packages/IPython/core/interactiveshell.py:2961: DtypeWarning: Columns (16,19,24) have mixed types. Specify dtype option on import or set low_memory=False.\n",
      "  exec(code_obj, self.user_global_ns, self.user_ns)\n"
     ]
    },
    {
     "name": "stdout",
     "output_type": "stream",
     "text": [
      "data/stop_data/TX-clean.csv - 12000000 - 20:02:19\n",
      "data/stop_data/TX-clean.csv - 13000000 - 20:02:34\n",
      "data/stop_data/TX-clean.csv - 14000000 - 20:02:52\n",
      "data/stop_data/TX-clean.csv - 15000000 - 20:03:24\n",
      "data/stop_data/TX-clean.csv - 16000000 - 20:04:02\n",
      "data/stop_data/TX-clean.csv - 17000000 - 20:04:28\n",
      "data/stop_data/TX-clean.csv - 18000000 - 20:04:54\n",
      "data/stop_data/TX-clean.csv - 19000000 - 20:05:23\n",
      "data/stop_data/TX-clean.csv - 20000000 - 20:06:02\n",
      "data/stop_data/TX-clean.csv - 21000000 - 20:06:43\n",
      "data/stop_data/TX-clean.csv - 22000000 - 20:07:12\n",
      "data/stop_data/TX-clean.csv - 23000000 - 20:07:38\n",
      "data/stop_data/TX-clean.csv - 24000000 - 20:07:54\n",
      "Starting data/stop_data/CO-clean.csv\n",
      "data/stop_data/CO-clean.csv - 1000000 - 20:08:25\n"
     ]
    },
    {
     "name": "stderr",
     "output_type": "stream",
     "text": [
      "/Users/shawnveltman/anaconda3/envs/geo/lib/python3.6/site-packages/IPython/core/interactiveshell.py:2961: DtypeWarning: Columns (19,20,21) have mixed types. Specify dtype option on import or set low_memory=False.\n",
      "  exec(code_obj, self.user_global_ns, self.user_ns)\n"
     ]
    },
    {
     "name": "stdout",
     "output_type": "stream",
     "text": [
      "data/stop_data/CO-clean.csv - 2000000 - 20:09:09\n"
     ]
    },
    {
     "name": "stderr",
     "output_type": "stream",
     "text": [
      "/Users/shawnveltman/anaconda3/envs/geo/lib/python3.6/site-packages/IPython/core/interactiveshell.py:2961: DtypeWarning: Columns (20,21) have mixed types. Specify dtype option on import or set low_memory=False.\n",
      "  exec(code_obj, self.user_global_ns, self.user_ns)\n"
     ]
    },
    {
     "name": "stdout",
     "output_type": "stream",
     "text": [
      "data/stop_data/CO-clean.csv - 3000000 - 20:09:39\n",
      "Starting data/stop_data/MT-clean.csv\n"
     ]
    },
    {
     "name": "stderr",
     "output_type": "stream",
     "text": [
      "/Users/shawnveltman/anaconda3/envs/geo/lib/python3.6/site-packages/IPython/core/interactiveshell.py:2961: DtypeWarning: Columns (25,27) have mixed types. Specify dtype option on import or set low_memory=False.\n",
      "  exec(code_obj, self.user_global_ns, self.user_ns)\n"
     ]
    },
    {
     "name": "stdout",
     "output_type": "stream",
     "text": [
      "data/stop_data/MT-clean.csv - 1000000 - 20:10:03\n",
      "Starting data/stop_data/ND-clean.csv\n",
      "data/stop_data/ND-clean.csv - 1000000 - 20:10:25\n",
      "Starting data/stop_data/MA-clean.csv\n",
      "data/stop_data/MA-clean.csv - 1000000 - 20:10:42\n",
      "data/stop_data/MA-clean.csv - 2000000 - 20:10:59\n",
      "data/stop_data/MA-clean.csv - 3000000 - 20:11:24\n",
      "data/stop_data/MA-clean.csv - 4000000 - 20:11:37\n",
      "Starting data/stop_data/NV-clean.csv\n",
      "data/stop_data/NV-clean.csv - 1000000 - 20:11:49\n",
      "Starting data/stop_data/WI-clean.csv\n"
     ]
    },
    {
     "name": "stderr",
     "output_type": "stream",
     "text": [
      "/Users/shawnveltman/anaconda3/envs/geo/lib/python3.6/site-packages/IPython/core/interactiveshell.py:2961: DtypeWarning: Columns (3,16) have mixed types. Specify dtype option on import or set low_memory=False.\n",
      "  exec(code_obj, self.user_global_ns, self.user_ns)\n"
     ]
    },
    {
     "name": "stdout",
     "output_type": "stream",
     "text": [
      "data/stop_data/WI-clean.csv - 1000000 - 20:12:10\n"
     ]
    },
    {
     "name": "stderr",
     "output_type": "stream",
     "text": [
      "/Users/shawnveltman/anaconda3/envs/geo/lib/python3.6/site-packages/IPython/core/interactiveshell.py:2961: DtypeWarning: Columns (3) have mixed types. Specify dtype option on import or set low_memory=False.\n",
      "  exec(code_obj, self.user_global_ns, self.user_ns)\n"
     ]
    },
    {
     "name": "stdout",
     "output_type": "stream",
     "text": [
      "data/stop_data/WI-clean.csv - 2000000 - 20:12:23\n",
      "Starting data/stop_data/OR-clean.csv\n",
      "data/stop_data/OR-clean.csv - 1000000 - 20:12:32\n",
      "data/stop_data/OR-clean.csv - 2000000 - 20:12:33\n",
      "Starting data/stop_data/MS-clean.csv\n",
      "data/stop_data/MS-clean.csv - 1000000 - 20:12:36\n",
      "Starting data/stop_data/AZ-clean.csv\n"
     ]
    },
    {
     "name": "stderr",
     "output_type": "stream",
     "text": [
      "/Users/shawnveltman/anaconda3/envs/geo/lib/python3.6/site-packages/IPython/core/interactiveshell.py:2961: DtypeWarning: Columns (25) have mixed types. Specify dtype option on import or set low_memory=False.\n",
      "  exec(code_obj, self.user_global_ns, self.user_ns)\n"
     ]
    },
    {
     "name": "stdout",
     "output_type": "stream",
     "text": [
      "data/stop_data/AZ-clean.csv - 1000000 - 20:12:51\n"
     ]
    },
    {
     "name": "stderr",
     "output_type": "stream",
     "text": [
      "/Users/shawnveltman/anaconda3/envs/geo/lib/python3.6/site-packages/IPython/core/interactiveshell.py:2961: DtypeWarning: Columns (16,25) have mixed types. Specify dtype option on import or set low_memory=False.\n",
      "  exec(code_obj, self.user_global_ns, self.user_ns)\n"
     ]
    },
    {
     "name": "stdout",
     "output_type": "stream",
     "text": [
      "data/stop_data/AZ-clean.csv - 2000000 - 20:13:18\n"
     ]
    },
    {
     "name": "stderr",
     "output_type": "stream",
     "text": [
      "/Users/shawnveltman/anaconda3/envs/geo/lib/python3.6/site-packages/IPython/core/interactiveshell.py:2961: DtypeWarning: Columns (4) have mixed types. Specify dtype option on import or set low_memory=False.\n",
      "  exec(code_obj, self.user_global_ns, self.user_ns)\n"
     ]
    },
    {
     "name": "stdout",
     "output_type": "stream",
     "text": [
      "data/stop_data/AZ-clean.csv - 3000000 - 20:13:36\n",
      "Starting data/stop_data/NC-clean.csv\n"
     ]
    },
    {
     "name": "stderr",
     "output_type": "stream",
     "text": [
      "/Users/shawnveltman/anaconda3/envs/geo/lib/python3.6/site-packages/IPython/core/interactiveshell.py:2961: DtypeWarning: Columns (5,23,24) have mixed types. Specify dtype option on import or set low_memory=False.\n",
      "  exec(code_obj, self.user_global_ns, self.user_ns)\n"
     ]
    },
    {
     "name": "stdout",
     "output_type": "stream",
     "text": [
      "data/stop_data/NC-clean.csv - 1000000 - 20:13:58\n",
      "data/stop_data/NC-clean.csv - 2000000 - 20:14:15\n",
      "data/stop_data/NC-clean.csv - 3000000 - 20:14:33\n",
      "data/stop_data/NC-clean.csv - 4000000 - 20:14:51\n"
     ]
    },
    {
     "name": "stderr",
     "output_type": "stream",
     "text": [
      "/Users/shawnveltman/anaconda3/envs/geo/lib/python3.6/site-packages/IPython/core/interactiveshell.py:2961: DtypeWarning: Columns (23) have mixed types. Specify dtype option on import or set low_memory=False.\n",
      "  exec(code_obj, self.user_global_ns, self.user_ns)\n"
     ]
    },
    {
     "name": "stdout",
     "output_type": "stream",
     "text": [
      "data/stop_data/NC-clean.csv - 5000000 - 20:15:11\n"
     ]
    },
    {
     "name": "stderr",
     "output_type": "stream",
     "text": [
      "/Users/shawnveltman/anaconda3/envs/geo/lib/python3.6/site-packages/IPython/core/interactiveshell.py:2961: DtypeWarning: Columns (3,23) have mixed types. Specify dtype option on import or set low_memory=False.\n",
      "  exec(code_obj, self.user_global_ns, self.user_ns)\n"
     ]
    },
    {
     "name": "stdout",
     "output_type": "stream",
     "text": [
      "data/stop_data/NC-clean.csv - 6000000 - 20:15:30\n",
      "data/stop_data/NC-clean.csv - 7000000 - 20:15:49\n",
      "data/stop_data/NC-clean.csv - 8000000 - 20:16:12\n"
     ]
    },
    {
     "name": "stderr",
     "output_type": "stream",
     "text": [
      "/Users/shawnveltman/anaconda3/envs/geo/lib/python3.6/site-packages/IPython/core/interactiveshell.py:2961: DtypeWarning: Columns (7,23) have mixed types. Specify dtype option on import or set low_memory=False.\n",
      "  exec(code_obj, self.user_global_ns, self.user_ns)\n"
     ]
    },
    {
     "name": "stdout",
     "output_type": "stream",
     "text": [
      "data/stop_data/NC-clean.csv - 9000000 - 20:16:29\n"
     ]
    },
    {
     "name": "stderr",
     "output_type": "stream",
     "text": [
      "/Users/shawnveltman/anaconda3/envs/geo/lib/python3.6/site-packages/IPython/core/interactiveshell.py:2961: DtypeWarning: Columns (3,7) have mixed types. Specify dtype option on import or set low_memory=False.\n",
      "  exec(code_obj, self.user_global_ns, self.user_ns)\n"
     ]
    },
    {
     "name": "stdout",
     "output_type": "stream",
     "text": [
      "data/stop_data/NC-clean.csv - 10000000 - 20:16:54\n",
      "Starting data/stop_data/RI-clean.csv\n"
     ]
    },
    {
     "name": "stderr",
     "output_type": "stream",
     "text": [
      "/Users/shawnveltman/anaconda3/envs/geo/lib/python3.6/site-packages/IPython/core/interactiveshell.py:2961: DtypeWarning: Columns (8,16) have mixed types. Specify dtype option on import or set low_memory=False.\n",
      "  exec(code_obj, self.user_global_ns, self.user_ns)\n"
     ]
    },
    {
     "name": "stdout",
     "output_type": "stream",
     "text": [
      "data/stop_data/RI-clean.csv - 1000000 - 20:17:02\n",
      "Starting data/stop_data/NH-clean.csv\n",
      "data/stop_data/NH-clean.csv - 1000000 - 20:17:04\n",
      "Starting data/stop_data/NE-clean.csv\n",
      "data/stop_data/NE-clean.csv - 1000000 - 20:17:09\n",
      "data/stop_data/NE-clean.csv - 2000000 - 20:17:13\n",
      "data/stop_data/NE-clean.csv - 3000000 - 20:17:17\n",
      "data/stop_data/NE-clean.csv - 4000000 - 20:17:23\n",
      "data/stop_data/NE-clean.csv - 5000000 - 20:17:24\n"
     ]
    }
   ],
   "source": [
    "import os\n",
    "\n",
    "total_summary = []\n",
    "chunksize = 10 ** 6\n",
    "for file in files:\n",
    "    export_filename = file.split('/')[-1]\n",
    "    output_path = 'data/summaries/' + export_filename\n",
    "    exists = os.path.isfile(output_path)\n",
    "    if exists: \n",
    "        print(\"Skipping \" + file)\n",
    "        continue\n",
    "    print(\"Starting \" + file)\n",
    "    stops = Stop(stop_filepath=file,chunk=True,acs=acs,chunksize=chunksize)\n"
   ]
  },
  {
   "cell_type": "code",
   "execution_count": null,
   "metadata": {},
   "outputs": [],
   "source": []
  },
  {
   "cell_type": "code",
   "execution_count": null,
   "metadata": {},
   "outputs": [],
   "source": []
  },
  {
   "cell_type": "code",
   "execution_count": null,
   "metadata": {},
   "outputs": [],
   "source": []
  },
  {
   "cell_type": "code",
   "execution_count": null,
   "metadata": {},
   "outputs": [],
   "source": []
  },
  {
   "cell_type": "code",
   "execution_count": null,
   "metadata": {},
   "outputs": [],
   "source": []
  },
  {
   "cell_type": "code",
   "execution_count": null,
   "metadata": {},
   "outputs": [],
   "source": []
  }
 ],
 "metadata": {
  "kernelspec": {
   "display_name": "Python 3",
   "language": "python",
   "name": "python3"
  },
  "language_info": {
   "codemirror_mode": {
    "name": "ipython",
    "version": 3
   },
   "file_extension": ".py",
   "mimetype": "text/x-python",
   "name": "python",
   "nbconvert_exporter": "python",
   "pygments_lexer": "ipython3",
   "version": "3.6.6"
  }
 },
 "nbformat": 4,
 "nbformat_minor": 2
}
